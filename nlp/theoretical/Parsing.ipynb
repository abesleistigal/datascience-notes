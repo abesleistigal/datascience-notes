{
 "cells": [
  {
   "cell_type": "markdown",
   "metadata": {},
   "source": [
    "##2011"
   ]
  },
  {
   "cell_type": "markdown",
   "metadata": {},
   "source": [
    "<a name=\"Socher2011\"></a> Socher R, Lin CC, Manning C, & Ng AY (2011). Parsing natural scenes and natural language with recursive neural networks. In Proceedings of the 28th international conference on machine learning (ICML-11) (pp. 129–136). Retrieved from [here](http://machinelearning.wustl.edu/mlpapers/paper_files/ICML2011Socher_125.pdf)\n",
    "\n",
    "    *    map imgage segments / words into a semantic space using a NNet which are then provided as input to a Recursive NNet (RecNet not to be confused with a Recurrent NNet)\n",
    "    *    RecNet ouputs scores that (a) indicate if neighboring regions should be merged (higher scores indicate merge), (b) a new representation for the merged region and (c) a class label for the new region\n",
    "    *    An outcome is therefore the representation of phrases/image regions in a dense vector space\n",
    "    *    Required training set: (a) parsed text, with labels for phrase type (e.g. noun phrase) (b) segmented images with region labels which are object categories (e.g. building)\n",
    "    *    The cost function is explicitly penalizes for syntactic and class label margin, i.e. semantic information is only implicitly captured"
   ]
  },
  {
   "cell_type": "code",
   "execution_count": null,
   "metadata": {
    "collapsed": true
   },
   "outputs": [],
   "source": []
  }
 ],
 "metadata": {
  "kernelspec": {
   "display_name": "Python 2",
   "language": "python",
   "name": "python2"
  },
  "language_info": {
   "codemirror_mode": {
    "name": "ipython",
    "version": 2
   },
   "file_extension": ".py",
   "mimetype": "text/x-python",
   "name": "python",
   "nbconvert_exporter": "python",
   "pygments_lexer": "ipython2",
   "version": "2.7.10"
  }
 },
 "nbformat": 4,
 "nbformat_minor": 0
}
