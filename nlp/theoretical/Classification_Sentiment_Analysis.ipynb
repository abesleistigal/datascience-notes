{
 "cells": [
  {
   "cell_type": "markdown",
   "metadata": {},
   "source": [
    "##2014"
   ]
  },
  {
   "cell_type": "markdown",
   "metadata": {},
   "source": [
    "<a name=\"Santos2014\"></a>Nogueira dos Santos, C., & Gatti, M. (2014). Deep convolutional neural networks for sentiment analysis of short texts. In Proceedings of the 25th International Conference on Computational Linguistics (COLING). Dublin, Ireland. Retrieved from [here](http://www.aclweb.org/anthology/C14-1008)\n",
    "\n",
    "    *    describes a text classification network that uses a deep convolutional NN architecture to learn character to sentence level features\n",
    "    *    utilizes word embeddings produced by unsupervised pre-training using word2vec\n",
    "    *    takes as input the sequence of words in the sentences\n",
    "    *    1st convolutional layer\n",
    "    *    transforms words into embeddings using a fixed size word vocabulary and characters into a character embedding using a fixed character set\n",
    "    *    2nd convolutional layer transforms word and character embeddings into a sentence level feature set"
   ]
  },
  {
   "cell_type": "code",
   "execution_count": null,
   "metadata": {
    "collapsed": true
   },
   "outputs": [],
   "source": []
  }
 ],
 "metadata": {
  "kernelspec": {
   "display_name": "Python 2",
   "language": "python",
   "name": "python2"
  },
  "language_info": {
   "codemirror_mode": {
    "name": "ipython",
    "version": 2
   },
   "file_extension": ".py",
   "mimetype": "text/x-python",
   "name": "python",
   "nbconvert_exporter": "python",
   "pygments_lexer": "ipython2",
   "version": "2.7.10"
  }
 },
 "nbformat": 4,
 "nbformat_minor": 0
}
