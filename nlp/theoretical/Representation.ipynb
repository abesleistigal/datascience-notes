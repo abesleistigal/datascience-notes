{
 "cells": [
  {
   "cell_type": "markdown",
   "metadata": {},
   "source": [
    "##2104"
   ]
  },
  {
   "cell_type": "markdown",
   "metadata": {},
   "source": [
    "<a name=\"Levy2014\"></a> Levy O, & Goldberg Y. (2014). Dependency-Based Word Embeddings. In Proceedings of the 52nd Annual Meeting of the Association for Computational Linguistics (Volume 2: Short Papers) (pp. 302–308). inproceedings, Baltimore, Maryland: Association for Computational Linguistics. Retrieved from [here](http://www.aclweb.org/anthology/P14-2050.pdf)\n",
    "\n",
    "    *    generalize skip-gram model to arbitrary contexts\n",
    "    *    specifically experiment with syntactic contexts derived from dependency parse trees\n",
    "    *    key insight - seek vector representations, v_w, such that the dot product, v_w * v_c, with the content vector is maximized for pairs that are good associations\n",
    "    *    article includes a very nice explanation of the mathematics of the skip-gram approach"
   ]
  },
  {
   "cell_type": "code",
   "execution_count": null,
   "metadata": {
    "collapsed": true
   },
   "outputs": [],
   "source": []
  }
 ],
 "metadata": {
  "kernelspec": {
   "display_name": "Python 2",
   "language": "python",
   "name": "python2"
  },
  "language_info": {
   "codemirror_mode": {
    "name": "ipython",
    "version": 2
   },
   "file_extension": ".py",
   "mimetype": "text/x-python",
   "name": "python",
   "nbconvert_exporter": "python",
   "pygments_lexer": "ipython2",
   "version": "2.7.10"
  }
 },
 "nbformat": 4,
 "nbformat_minor": 0
}
