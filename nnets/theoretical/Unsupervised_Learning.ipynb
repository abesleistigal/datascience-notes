{
 "cells": [
  {
   "cell_type": "markdown",
   "metadata": {},
   "source": [
    "##2011"
   ]
  },
  {
   "cell_type": "markdown",
   "metadata": {},
   "source": [
    "J. Masci, U. Meier, D. Cire\\csan, J. Schmidhuber, Stacked convolutional auto-encoders for hierarchical feature extraction, in: Int. Conf. Artif. Neural Networks, 2011: pp. 52–59. Retrieved from here\n",
    "\n",
    "*    Introduces __convolutional auto-encoder__, a hierachical unsupervised feature extractor\n",
    "*    Focus specifically on denoising auto-encoder implementaiton, though this is not a necessary constraint\n",
    "*    Unlike a fully connected auto-encoder which learn global features, the aim of a Conv-AE is to learn localized features that repeat themselves\n",
    "*    Key insight: encoder / decoder weights are fully dependent, specifically the decoder weights are taken as the flip over both dimensions of the encoder weights but with possibly different bias\n",
    "*    Implements a max-pooling layer to down-sample (forces a sparse encoded representation) the convolution output"
   ]
  },
  {
   "cell_type": "code",
   "execution_count": null,
   "metadata": {
    "collapsed": true
   },
   "outputs": [],
   "source": []
  }
 ],
 "metadata": {
  "kernelspec": {
   "display_name": "Python 2",
   "language": "python",
   "name": "python2"
  },
  "language_info": {
   "codemirror_mode": {
    "name": "ipython",
    "version": 2
   },
   "file_extension": ".py",
   "mimetype": "text/x-python",
   "name": "python",
   "nbconvert_exporter": "python",
   "pygments_lexer": "ipython2",
   "version": "2.7.10"
  }
 },
 "nbformat": 4,
 "nbformat_minor": 0
}
